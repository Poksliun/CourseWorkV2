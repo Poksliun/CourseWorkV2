{
 "cells": [
  {
   "cell_type": "markdown",
   "source": [
    "Получение датасета в необходимом формате"
   ],
   "metadata": {
    "collapsed": false
   }
  },
  {
   "cell_type": "code",
   "execution_count": 1,
   "outputs": [],
   "source": [
    "import matplotlib.pyplot as plt\n",
    "from keras.preprocessing.image import ImageDataGenerator\n",
    "from keras.models import Sequential\n",
    "from keras.layers import Conv2D, MaxPooling2D\n",
    "from keras.layers import Activation, Dropout, Flatten, Dense\n",
    "\n",
    "from file_handler import handler"
   ],
   "metadata": {
    "collapsed": false
   }
  },
  {
   "cell_type": "code",
   "execution_count": 2,
   "outputs": [],
   "source": [
    "val_data_proportion = 1/6\n",
    "#\n",
    "nb_images = 18\n",
    "#a\n",
    "start_val_data_idx = int(nb_images * (1 - val_data_proportion))\n",
    "\n",
    "#\n",
    "data_dir = 'resources/after_processing'\n",
    "#\n",
    "image_example = 'resources/proc_data/train_data/false-0.jpg'\n",
    "# Директория с данными для обучения\n",
    "train_dir = 'train'\n",
    "# Директория с данными для проверки\n",
    "val_dir = 'val'\n",
    "# Директория с данными для тестирования\n",
    "test_dir = 'test'"
   ],
   "metadata": {
    "collapsed": false
   }
  },
  {
   "cell_type": "code",
   "execution_count": 3,
   "outputs": [],
   "source": [
    "handler.train_data_preparation()\n",
    "handler.data_processing(dir_name=train_dir, start_index=0, end_index=start_val_data_idx)\n",
    "handler.data_processing(dir_name=val_dir, start_index=start_val_data_idx, end_index=nb_images)"
   ],
   "metadata": {
    "collapsed": false
   }
  },
  {
   "cell_type": "code",
   "execution_count": 4,
   "outputs": [
    {
     "data": {
      "text/plain": "(322, 154, 1)"
     },
     "execution_count": 4,
     "metadata": {},
     "output_type": "execute_result"
    }
   ],
   "source": [
    "img_width, img_height = handler.get_image_size(image_example)\n",
    "\n",
    "input_shape = (img_width, img_height, 1)\n",
    "\n",
    "batch_size = 1\n",
    "\n",
    "nb_train_samples = handler.counting_files_in_dirs(train_dir)\n",
    "\n",
    "nb_validation_samples = handler.counting_files_in_dirs(val_dir)\n",
    "\n",
    "input_shape"
   ],
   "metadata": {
    "collapsed": false
   }
  },
  {
   "cell_type": "code",
   "execution_count": 5,
   "outputs": [],
   "source": [
    "def define_model():\n",
    "    model = Sequential()\n",
    "    model.add(Conv2D(64, (10,10), input_shape=input_shape))\n",
    "    model.add(Activation('relu'))\n",
    "    model.add(MaxPooling2D(pool_size=(2,2)))\n",
    "\n",
    "    model.add(Conv2D(128, (7,7)))\n",
    "    model.add(Activation('relu'))\n",
    "    model.add(MaxPooling2D(pool_size=(2,2)))\n",
    "\n",
    "    model.add(Conv2D(128, (4,4)))\n",
    "    model.add(Activation('relu'))\n",
    "    model.add(MaxPooling2D(pool_size=(2,2)))\n",
    "\n",
    "    model.add(Conv2D(256, (2,2)))\n",
    "    model.add(Activation('relu'))\n",
    "    model.add(MaxPooling2D(pool_size=(2,2)))\n",
    "\n",
    "    model.add(Flatten())\n",
    "    model.add(Dense(4096))\n",
    "    model.add(Activation('relu'))\n",
    "    model.add(Dropout(0.2))\n",
    "\n",
    "    model.add(Dense(1))\n",
    "    model.add(Activation('sigmoid'))\n",
    "\n",
    "    model.compile(\n",
    "        loss='binary_crossentropy',\n",
    "        optimizer='adam',\n",
    "        metrics=['binary_accuracy']\n",
    "    )\n",
    "\n",
    "    return model"
   ],
   "metadata": {
    "collapsed": false
   }
  },
  {
   "cell_type": "code",
   "execution_count": 6,
   "outputs": [],
   "source": [
    "def test_check(add_test_data : bool = False, create_dir: bool = True):\n",
    "    if add_test_data:\n",
    "        handler.adding_test_data(\"test\", count_files=2, create_new_dir=create_dir)\n",
    "\n",
    "    test_generator = datagen.flow_from_directory(\n",
    "        test_dir,\n",
    "        color_mode=\"grayscale\",\n",
    "        target_size=(img_width, img_height),\n",
    "        batch_size=batch_size,\n",
    "        class_mode='binary'\n",
    "    )\n",
    "    nb_test_samples = handler.counting_files_in_dirs(test_dir)\n",
    "    scores = base_model.evaluate_generator(test_generator, nb_test_samples // batch_size)\n",
    "    return scores[1], test_generator"
   ],
   "metadata": {
    "collapsed": false
   }
  },
  {
   "cell_type": "code",
   "execution_count": 7,
   "outputs": [],
   "source": [
    "datagen = ImageDataGenerator(rescale=1. / 255)"
   ],
   "metadata": {
    "collapsed": false
   }
  },
  {
   "cell_type": "code",
   "execution_count": 8,
   "outputs": [
    {
     "name": "stdout",
     "output_type": "stream",
     "text": [
      "Found 30 images belonging to 2 classes.\n"
     ]
    }
   ],
   "source": [
    "train_generator = datagen.flow_from_directory(\n",
    "    train_dir,\n",
    "    color_mode=\"grayscale\",\n",
    "    target_size=(img_width, img_height),\n",
    "    batch_size=batch_size,\n",
    "    class_mode='binary'\n",
    ")"
   ],
   "metadata": {
    "collapsed": false
   }
  },
  {
   "cell_type": "code",
   "execution_count": 9,
   "outputs": [
    {
     "name": "stdout",
     "output_type": "stream",
     "text": [
      "Found 6 images belonging to 2 classes.\n"
     ]
    }
   ],
   "source": [
    "val_generator = datagen.flow_from_directory(\n",
    "    val_dir,\n",
    "    color_mode=\"grayscale\",\n",
    "    target_size=(img_width, img_height),\n",
    "    batch_size=batch_size,\n",
    "    class_mode='binary'\n",
    ")"
   ],
   "metadata": {
    "collapsed": false
   }
  },
  {
   "cell_type": "code",
   "execution_count": 10,
   "outputs": [],
   "source": [
    "base_model = define_model()"
   ],
   "metadata": {
    "collapsed": false
   }
  },
  {
   "cell_type": "code",
   "execution_count": 15,
   "outputs": [
    {
     "name": "stdout",
     "output_type": "stream",
     "text": [
      "Epoch 1/6\n",
      "30/30 [==============================] - 34s 1s/step - loss: 0.7700 - binary_accuracy: 0.8000 - val_loss: 0.4131 - val_binary_accuracy: 1.0000\n",
      "Epoch 2/6\n",
      "30/30 [==============================] - 34s 1s/step - loss: 0.8350 - binary_accuracy: 0.9000 - val_loss: 1.0867 - val_binary_accuracy: 0.6667\n",
      "Epoch 3/6\n",
      "30/30 [==============================] - 34s 1s/step - loss: 1.9710 - binary_accuracy: 0.5667 - val_loss: 0.6308 - val_binary_accuracy: 0.8333\n",
      "Epoch 4/6\n",
      "30/30 [==============================] - 34s 1s/step - loss: 0.5235 - binary_accuracy: 0.8333 - val_loss: 0.1406 - val_binary_accuracy: 1.0000\n",
      "Epoch 5/6\n",
      "30/30 [==============================] - 34s 1s/step - loss: 0.5970 - binary_accuracy: 0.8000 - val_loss: 0.4414 - val_binary_accuracy: 0.8333\n",
      "Epoch 6/6\n",
      "30/30 [==============================] - 34s 1s/step - loss: 0.2861 - binary_accuracy: 0.9000 - val_loss: 3.7278e-04 - val_binary_accuracy: 1.0000\n"
     ]
    }
   ],
   "source": [
    "epoch = 6\n",
    "\n",
    "history_cnn = base_model.fit(\n",
    "    train_generator,\n",
    "    steps_per_epoch=nb_train_samples // batch_size,\n",
    "    epochs=epoch,\n",
    "    validation_data=val_generator,\n",
    "    validation_steps=nb_validation_samples // batch_size\n",
    ")"
   ],
   "metadata": {
    "collapsed": false
   }
  },
  {
   "cell_type": "code",
   "execution_count": 16,
   "outputs": [
    {
     "data": {
      "text/plain": "<Figure size 640x480 with 1 Axes>",
      "image/png": "[encoded data removed]"
     },
     "metadata": {},
     "output_type": "display_data"
    }
   ],
   "source": [
    "plt.plot(history_cnn.history['val_binary_accuracy'], '-o', label='validation accuracy')\n",
    "plt.plot(history_cnn.history['binary_accuracy'], '--s', label='training accuracy')\n",
    "plt.legend();"
   ],
   "metadata": {
    "collapsed": false
   }
  },
  {
   "cell_type": "code",
   "execution_count": 17,
   "outputs": [],
   "source": [
    "true_test = 'test/true/true-1.jpg'"
   ],
   "metadata": {
    "collapsed": false
   }
  },
  {
   "cell_type": "code",
   "execution_count": 18,
   "outputs": [
    {
     "name": "stdout",
     "output_type": "stream",
     "text": [
      "Found 4 images belonging to 2 classes.\n"
     ]
    },
    {
     "name": "stderr",
     "output_type": "stream",
     "text": [
      "C:\\Users\\poksliun\\AppData\\Local\\Temp\\ipykernel_11544\\3483076609.py:13: UserWarning: `Model.evaluate_generator` is deprecated and will be removed in a future version. Please use `Model.evaluate`, which supports generators.\n",
      "  scores = base_model.evaluate_generator(test_generator, nb_test_samples // batch_size)\n"
     ]
    },
    {
     "name": "stdout",
     "output_type": "stream",
     "text": [
      "4/4 [==============================] - 0s 52ms/step\n"
     ]
    },
    {
     "data": {
      "text/plain": "array([[0.00573069],\n       [1.        ],\n       [1.        ],\n       [1.        ]], dtype=float32)"
     },
     "execution_count": 18,
     "metadata": {},
     "output_type": "execute_result"
    }
   ],
   "source": [
    "base_model.predict(test_check(add_test_data=False)[1])"
   ],
   "metadata": {
    "collapsed": false
   }
  },
  {
   "cell_type": "code",
   "execution_count": null,
   "outputs": [],
   "source": [],
   "metadata": {
    "collapsed": false
   }
  }
 ],
 "metadata": {
  "kernelspec": {
   "display_name": "Python 3",
   "language": "python",
   "name": "python3"
  },
  "language_info": {
   "codemirror_mode": {
    "name": "ipython",
    "version": 2
   },
   "file_extension": ".py",
   "mimetype": "text/x-python",
   "name": "python",
   "nbconvert_exporter": "python",
   "pygments_lexer": "ipython2",
   "version": "2.7.6"
  }
 },
 "nbformat": 4,
 "nbformat_minor": 0
}
